{
 "cells": [
  {
   "cell_type": "markdown",
   "metadata": {},
   "source": [
    "# Importando modelo e uma função que separa o Dataset (treino e teste)"
   ]
  },
  {
   "cell_type": "code",
   "execution_count": 1,
   "metadata": {},
   "outputs": [],
   "source": [
    "from Algoritmos.An_existing_SAT_model.an_existing_model import an_existing_model as IKKRR\n",
    "from test_approaches import get_test_data"
   ]
  },
  {
   "cell_type": "markdown",
   "metadata": {},
   "source": [
    "# Importando o dataset e inserindo as configurações necessárias para instanciar o modelo"
   ]
  },
  {
   "cell_type": "code",
   "execution_count": 2,
   "metadata": {},
   "outputs": [],
   "source": [
    "# DATASET ADDRESS, NAME AND CATEGORICAL COLUMNS\n",
    "arq = './Datasets/mushroom.csv'\n",
    "columns = [1, 2, 3, 4, 5, 6, 7, 8, 9, 10, 11, 12, 13, 14, 15, 16, 17, 18, 19, 20, 21]\n",
    "\n",
    "# MODELS CONFIGURATIONS\n",
    "num_lines_per_partition = 8 # [8, 16]\n",
    "num_clauses = 2 # [1, 2, 3]\n",
    "lambda_params =  10 # [5, 10]"
   ]
  },
  {
   "cell_type": "markdown",
   "metadata": {},
   "source": [
    "# Instanciando o modelo e discretizando o dataset"
   ]
  },
  {
   "cell_type": "code",
   "execution_count": 3,
   "metadata": {},
   "outputs": [],
   "source": [
    "model_ikkrr = IKKRR(solver=\"./Solvers/wmifumax-0.9/wmifumax\", numLinesPerPartition=num_lines_per_partition, numClause=num_clauses, dataFidelity=lambda_params)\n",
    "X2, y2, column_info_ikkrr, columns_ikkrr = model_ikkrr.discretize(arq, categoricalColumnIndex=columns)"
   ]
  },
  {
   "cell_type": "markdown",
   "metadata": {},
   "source": [
    "# Separando o dataset (discretizado) em 80% para treino e 20% para teste"
   ]
  },
  {
   "cell_type": "code",
   "execution_count": 35,
   "metadata": {},
   "outputs": [],
   "source": [
    "X_test_ikkrr, y_test_ikkrr, X_training_ikkrr, y_training_ikkrr, _ = get_test_data(X2, y2, 0.2)"
   ]
  },
  {
   "cell_type": "markdown",
   "metadata": {},
   "source": [
    "# Treinando o modelo e visulizando o score referente ao dataset de treino e teste, respectivamente"
   ]
  },
  {
   "cell_type": "code",
   "execution_count": 36,
   "metadata": {},
   "outputs": [
    {
     "name": "stdout",
     "output_type": "stream",
     "text": [
      "Score de treino: 0.8666666666666667\n",
      "Score de teste: 0.8666666666666667\n"
     ]
    },
    {
     "name": "stderr",
     "output_type": "stream",
     "text": [
      "c Min unsat cost LB: 1, ts: 0.000355, CS: 17\n",
      "c Min unsat cost LB: 2, ts: 0.00044, CS: 17\n",
      "c Min unsat cost LB: 3, ts: 0.000546, CS: 36\n",
      "c SAT found, ts: 0.000663\n",
      "c Min unsat cost LB: 1, ts: 0.000374, CS: 17\n",
      "c Min unsat cost LB: 2, ts: 0.000476, CS: 17\n",
      "c Min unsat cost LB: 3, ts: 0.000545, CS: 3\n",
      "c Min unsat cost LB: 4, ts: 0.000635, CS: 33\n",
      "c SAT found, ts: 0.000848\n",
      "c Min unsat cost LB: 1, ts: 0.000351, CS: 3\n",
      "c Min unsat cost LB: 2, ts: 0.000469, CS: 18\n",
      "c SAT found, ts: 0.000555\n",
      "c Min unsat cost LB: 1, ts: 0.00043, CS: 17\n",
      "c SAT found, ts: 0.000542\n",
      "c Min unsat cost LB: 1, ts: 0.00046, CS: 3\n",
      "c Min unsat cost LB: 2, ts: 0.00058, CS: 18\n",
      "c Min unsat cost LB: 3, ts: 0.000698, CS: 36\n",
      "c Min unsat cost LB: 4, ts: 0.000879, CS: 41\n",
      "c Min unsat cost LB: 5, ts: 0.001173, CS: 20\n",
      "c Min unsat cost LB: 6, ts: 0.001601, CS: 60\n",
      "c SAT found, ts: 0.001931\n",
      "c Min unsat cost LB: 1, ts: 0.000468, CS: 17\n",
      "c Min unsat cost LB: 2, ts: 0.000593, CS: 3\n",
      "c SAT found, ts: 0.000758\n",
      "c SAT found, ts: 0.000559\n",
      "c Min unsat cost LB: 1, ts: 0.000387, CS: 17\n",
      "c Min unsat cost LB: 2, ts: 0.000482, CS: 12\n",
      "c Min unsat cost LB: 3, ts: 0.000563, CS: 24\n",
      "c SAT found, ts: 0.000647\n"
     ]
    }
   ],
   "source": [
    "model_ikkrr.fit(X_training_ikkrr, y_training_ikkrr)\n",
    "print('Score de treino:', model_ikkrr.score(X_training_ikkrr, y_training_ikkrr))\n",
    "print('Score de teste:', model_ikkrr.score(X_test_ikkrr, y_test_ikkrr))"
   ]
  },
  {
   "cell_type": "markdown",
   "metadata": {},
   "source": [
    "# Explicação do modelo para as predições"
   ]
  },
  {
   "cell_type": "code",
   "execution_count": 37,
   "metadata": {},
   "outputs": [
    {
     "name": "stdout",
     "output_type": "stream",
     "text": [
      "( petal length <= 5.32 and petal length > 3.9 and petal width <= 1.9 ) or \n",
      "( petal length <= 4.6400000000000015 and petal width > 1.1600000000000001)\n"
     ]
    }
   ],
   "source": [
    "print(model_ikkrr.getRule())"
   ]
  }
 ],
 "metadata": {
  "interpreter": {
   "hash": "43633f9b02f321fb096cc9d3b8e92f97c260ef1c83c300579fe72461009102c7"
  },
  "kernelspec": {
   "display_name": "Python 3.8.10 64-bit ('.venv': venv)",
   "language": "python",
   "name": "python3"
  },
  "language_info": {
   "codemirror_mode": {
    "name": "ipython",
    "version": 3
   },
   "file_extension": ".py",
   "mimetype": "text/x-python",
   "name": "python",
   "nbconvert_exporter": "python",
   "pygments_lexer": "ipython3",
   "version": "3.8.10"
  },
  "orig_nbformat": 4
 },
 "nbformat": 4,
 "nbformat_minor": 2
}
