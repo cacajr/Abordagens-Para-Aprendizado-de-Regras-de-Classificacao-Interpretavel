{
 "cells": [
  {
   "cell_type": "markdown",
   "metadata": {},
   "source": [
    "# Importando modelo e uma função que separa o Dataset (treino e teste)"
   ]
  },
  {
   "cell_type": "code",
   "execution_count": 2,
   "metadata": {},
   "outputs": [],
   "source": [
    "from Algoritmos.An_alternative_model.an_alternative_model import an_alternative_model as IMinDS\n",
    "from test_approaches import get_test_data"
   ]
  },
  {
   "cell_type": "markdown",
   "metadata": {},
   "source": [
    "# Importando o dataset e inserindo as configurações necessárias para instanciar o modelo"
   ]
  },
  {
   "cell_type": "code",
   "execution_count": 3,
   "metadata": {},
   "outputs": [],
   "source": [
    "# DATASET ADDRESS, NAME AND CATEGORICAL COLUMNS\n",
    "arq = './Datasets/lung_cancer.csv'\n",
    "columns = []\n",
    "\n",
    "# MODELS CONFIGURATIONS\n",
    "num_lines_per_partition = 8 # [8, 16]\n",
    "num_clauses = 2 # [1, 2, 3]\n",
    "lambda_params =  10 # [5, 10]"
   ]
  },
  {
   "cell_type": "markdown",
   "metadata": {},
   "source": [
    "# Instanciando o modelo e discretizando o dataset"
   ]
  },
  {
   "cell_type": "code",
   "execution_count": 4,
   "metadata": {},
   "outputs": [],
   "source": [
    "model_iminds = IMinDS(solver=\"./Solvers/wmifumax-0.9/wmifumax\", numLinesPerPartition=num_lines_per_partition, numClause=num_clauses, dataFidelity=lambda_params)\n",
    "X3, y3, column_info_iminds, columns_iminds = model_iminds.discretize(arq, categoricalColumnIndex=columns)"
   ]
  },
  {
   "cell_type": "markdown",
   "metadata": {},
   "source": [
    "# Separando o dataset (discretizado) em 80% para treino e 20% para teste"
   ]
  },
  {
   "cell_type": "code",
   "execution_count": 19,
   "metadata": {},
   "outputs": [],
   "source": [
    "X_test_iminds, y_test_iminds, X_training_iminds, y_training_iminds, _ = get_test_data(X3, y3, 0.2)"
   ]
  },
  {
   "cell_type": "markdown",
   "metadata": {},
   "source": [
    "# Treinando o modelo e visulizando o score referente ao dataset de treino e teste, respectivamente"
   ]
  },
  {
   "cell_type": "code",
   "execution_count": 27,
   "metadata": {},
   "outputs": [
    {
     "name": "stdout",
     "output_type": "stream",
     "text": [
      "Score de treino: 0.9148936170212766\n",
      "Score de teste: 0.8333333333333334\n"
     ]
    },
    {
     "name": "stderr",
     "output_type": "stream",
     "text": [
      "c Min unsat cost LB: 1, ts: 0.002131, CS: 113\n",
      "c Min unsat cost LB: 2, ts: 0.002131, CS: 113\n",
      "c SAT found, ts: 0.002131\n",
      "c Min unsat cost LB: 1, ts: 0.003417, CS: 5\n",
      "c Min unsat cost LB: 2, ts: 0.004704, CS: 227\n",
      "c SAT found, ts: 0.00597\n",
      "c Min unsat cost LB: 1, ts: 0, CS: 116\n",
      "c Min unsat cost LB: 2, ts: 0, CS: 227\n",
      "c SAT found, ts: 0.00254\n",
      "c SAT found, ts: 0.004069\n"
     ]
    }
   ],
   "source": [
    "model_iminds.fit(X_training_iminds, y_training_iminds)\n",
    "print('Score de treino:', model_iminds.score(X_training_iminds, y_training_iminds))\n",
    "print('Score de teste:', model_iminds.score(X_test_iminds, y_test_iminds))"
   ]
  },
  {
   "cell_type": "markdown",
   "metadata": {},
   "source": [
    "# Explicação do modelo para as predições"
   ]
  },
  {
   "cell_type": "code",
   "execution_count": 28,
   "metadata": {},
   "outputs": [
    {
     "name": "stdout",
     "output_type": "stream",
     "text": [
      "( Age > 44.0 ) or \n",
      "( AreaQ <= 3.0)\n"
     ]
    }
   ],
   "source": [
    "print(model_iminds.getRule())"
   ]
  }
 ],
 "metadata": {
  "interpreter": {
   "hash": "43633f9b02f321fb096cc9d3b8e92f97c260ef1c83c300579fe72461009102c7"
  },
  "kernelspec": {
   "display_name": "Python 3.8.10 64-bit ('.venv': venv)",
   "language": "python",
   "name": "python3"
  },
  "language_info": {
   "codemirror_mode": {
    "name": "ipython",
    "version": 3
   },
   "file_extension": ".py",
   "mimetype": "text/x-python",
   "name": "python",
   "nbconvert_exporter": "python",
   "pygments_lexer": "ipython3",
   "version": "3.8.10"
  },
  "orig_nbformat": 4
 },
 "nbformat": 4,
 "nbformat_minor": 2
}
