{
 "cells": [
  {
   "cell_type": "code",
   "execution_count": 2,
   "metadata": {},
   "outputs": [],
   "source": [
    "from Algoritmos.An_alternative_model.an_alternative_model import an_alternative_model as IMinDS\n",
    "from test_approaches import get_test_data"
   ]
  },
  {
   "cell_type": "code",
   "execution_count": 3,
   "metadata": {},
   "outputs": [],
   "source": [
    "# DATASET ADDRESS, NAME AND CATEGORICAL COLUMNS\n",
    "arq = './Datasets/lung_cancer.csv'\n",
    "columns = []\n",
    "\n",
    "# MODELS CONFIGURATIONS\n",
    "num_lines_per_partition = 8 # [8, 16]\n",
    "num_clauses = 2 # [1, 2, 3]\n",
    "lambda_params =  10 # [5, 10]"
   ]
  },
  {
   "cell_type": "code",
   "execution_count": 4,
   "metadata": {},
   "outputs": [],
   "source": [
    "model_iminds = IMinDS(solver=\"./Solvers/wmifumax-0.9/wmifumax\", numLinesPerPartition=num_lines_per_partition, numClause=num_clauses, dataFidelity=lambda_params)\n",
    "X3, y3, column_info_iminds, columns_iminds = model_iminds.discretize(arq, categoricalColumnIndex=columns)"
   ]
  },
  {
   "cell_type": "code",
   "execution_count": 5,
   "metadata": {},
   "outputs": [],
   "source": [
    "X_test_iminds, y_test_iminds, X_training_iminds, y_training_iminds, _ = get_test_data(X3, y3, 0.2)"
   ]
  },
  {
   "cell_type": "code",
   "execution_count": 10,
   "metadata": {},
   "outputs": [
    {
     "name": "stdout",
     "output_type": "stream",
     "text": [
      "0.9166666666666666\n"
     ]
    },
    {
     "name": "stderr",
     "output_type": "stream",
     "text": [
      "c Min unsat cost LB: 1, ts: 0.003641, CS: 113\n",
      "c Min unsat cost LB: 2, ts: 0.004808, CS: 113\n",
      "c SAT found, ts: 0.006198\n",
      "c Min unsat cost LB: 1, ts: 0.00269, CS: 5\n",
      "c Min unsat cost LB: 2, ts: 0.003711, CS: 227\n",
      "c Min unsat cost LB: 3, ts: 0.005737, CS: 275\n",
      "c SAT found, ts: 0.010913\n",
      "c Min unsat cost LB: 1, ts: 0.003545, CS: 114\n",
      "c SAT found, ts: 0.004515\n",
      "c SAT found, ts: 0.002579\n"
     ]
    }
   ],
   "source": [
    "model_iminds.fit(X_training_iminds, y_training_iminds)\n",
    "print(model_iminds.score(X_test_iminds, y_test_iminds))"
   ]
  },
  {
   "cell_type": "code",
   "execution_count": 11,
   "metadata": {},
   "outputs": [
    {
     "name": "stdout",
     "output_type": "stream",
     "text": [
      "( Alkhol > 4.0 ) or \n",
      "( Name != Sidney  and Age > 44.0 and Alkhol > 2.0)\n"
     ]
    }
   ],
   "source": [
    "print(model_iminds.getRule())"
   ]
  }
 ],
 "metadata": {
  "interpreter": {
   "hash": "43633f9b02f321fb096cc9d3b8e92f97c260ef1c83c300579fe72461009102c7"
  },
  "kernelspec": {
   "display_name": "Python 3.8.10 64-bit ('.venv': venv)",
   "language": "python",
   "name": "python3"
  },
  "language_info": {
   "codemirror_mode": {
    "name": "ipython",
    "version": 3
   },
   "file_extension": ".py",
   "mimetype": "text/x-python",
   "name": "python",
   "nbconvert_exporter": "python",
   "pygments_lexer": "ipython3",
   "version": "3.8.10"
  },
  "orig_nbformat": 4
 },
 "nbformat": 4,
 "nbformat_minor": 2
}
