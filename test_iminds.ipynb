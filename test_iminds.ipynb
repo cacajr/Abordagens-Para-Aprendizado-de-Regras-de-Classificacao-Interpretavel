{
 "cells": [
  {
   "cell_type": "markdown",
   "metadata": {},
   "source": [
    "# Importando modelo e uma função que separa o Dataset (treino e teste)"
   ]
  },
  {
   "cell_type": "code",
   "execution_count": 1,
   "metadata": {},
   "outputs": [],
   "source": [
    "from Algoritmos.An_alternative_model.an_alternative_model import an_alternative_model as IMinDS\n",
    "from test_approaches import get_test_data"
   ]
  },
  {
   "cell_type": "markdown",
   "metadata": {},
   "source": [
    "# Importando o dataset e inserindo as configurações necessárias para instanciar o modelo"
   ]
  },
  {
   "cell_type": "code",
   "execution_count": 2,
   "metadata": {},
   "outputs": [],
   "source": [
    "# DATASET ADDRESS, NAME AND CATEGORICAL COLUMNS\n",
    "arq = './Datasets/iris.csv'\n",
    "columns = []\n",
    "\n",
    "# MODELS CONFIGURATIONS\n",
    "num_lines_per_partition = 8 # [8, 16]\n",
    "num_clauses = 2 # [1, 2, 3]\n",
    "lambda_params =  10 # [5, 10]"
   ]
  },
  {
   "cell_type": "markdown",
   "metadata": {},
   "source": [
    "# Instanciando o modelo e discretizando o dataset"
   ]
  },
  {
   "cell_type": "code",
   "execution_count": 3,
   "metadata": {},
   "outputs": [],
   "source": [
    "model_iminds = IMinDS(solver=\"./Solvers/wmifumax-0.9/wmifumax\", numLinesPerPartition=num_lines_per_partition, numClause=num_clauses, dataFidelity=lambda_params)\n",
    "X3, y3, column_info_iminds, columns_iminds = model_iminds.discretize(arq, categoricalColumnIndex=columns)"
   ]
  },
  {
   "cell_type": "markdown",
   "metadata": {},
   "source": [
    "# Separando o dataset (discretizado) em 80% para treino e 20% para teste"
   ]
  },
  {
   "cell_type": "code",
   "execution_count": 4,
   "metadata": {},
   "outputs": [],
   "source": [
    "X_test_iminds, y_test_iminds, X_training_iminds, y_training_iminds, _ = get_test_data(X3, y3, 0.2)"
   ]
  },
  {
   "cell_type": "markdown",
   "metadata": {},
   "source": [
    "# Treinando o modelo e visulizando o score referente ao dataset de treino e teste, respectivamente"
   ]
  },
  {
   "cell_type": "code",
   "execution_count": 17,
   "metadata": {},
   "outputs": [
    {
     "name": "stdout",
     "output_type": "stream",
     "text": [
      "Score de treino: 0.925\n",
      "Score de teste: 0.8666666666666667\n"
     ]
    },
    {
     "name": "stderr",
     "output_type": "stream",
     "text": [
      "c Min unsat cost LB: 1, ts: 0.000955, CS: 16\n",
      "c Min unsat cost LB: 2, ts: 0.000955, CS: 16\n",
      "c Min unsat cost LB: 3, ts: 0.000955, CS: 30\n",
      "c Min unsat cost LB: 4, ts: 0.000955, CS: 43\n",
      "c SAT found, ts: 0.000955\n",
      "c Min unsat cost LB: 1, ts: 0.000544, CS: 17\n",
      "c Min unsat cost LB: 2, ts: 0.000695, CS: 5\n",
      "c Min unsat cost LB: 3, ts: 0.000824, CS: 28\n",
      "c SAT found, ts: 0.000937\n",
      "c Min unsat cost LB: 1, ts: 0.000512, CS: 17\n",
      "c Min unsat cost LB: 2, ts: 0.000645, CS: 12\n",
      "c Min unsat cost LB: 3, ts: 0.000762, CS: 21\n",
      "c Min unsat cost LB: 4, ts: 0.000933, CS: 44\n",
      "c SAT found, ts: 0.001373\n",
      "c Min unsat cost LB: 1, ts: 0.000568, CS: 17\n",
      "c Min unsat cost LB: 2, ts: 0.000711, CS: 10\n",
      "c Min unsat cost LB: 3, ts: 0.00089, CS: 5\n",
      "c Min unsat cost LB: 4, ts: 0.001111, CS: 33\n",
      "c SAT found, ts: 0.001362\n",
      "c Min unsat cost LB: 1, ts: 0, CS: 17\n",
      "c Min unsat cost LB: 2, ts: 0, CS: 14\n",
      "c Min unsat cost LB: 3, ts: 0, CS: 19\n",
      "c Min unsat cost LB: 4, ts: 0, CS: 29\n",
      "c SAT found, ts: 0\n",
      "c Min unsat cost LB: 1, ts: 0.000634, CS: 17\n",
      "c Min unsat cost LB: 2, ts: 0.000808, CS: 11\n",
      "c Min unsat cost LB: 3, ts: 0.00096, CS: 32\n",
      "c SAT found, ts: 0.001129\n",
      "c Min unsat cost LB: 1, ts: 0.00059, CS: 5\n",
      "c Min unsat cost LB: 2, ts: 0.000707, CS: 5\n",
      "c Min unsat cost LB: 3, ts: 0.000845, CS: 31\n",
      "c Min unsat cost LB: 4, ts: 0.001036, CS: 56\n",
      "c Min unsat cost LB: 5, ts: 0.001462, CS: 29\n",
      "c SAT found, ts: 0.00202\n",
      "c SAT found, ts: 0.000613\n"
     ]
    }
   ],
   "source": [
    "model_iminds.fit(X_training_iminds, y_training_iminds)\n",
    "print('Score de treino:', model_iminds.score(X_training_iminds, y_training_iminds))\n",
    "print('Score de teste:', model_iminds.score(X_test_iminds, y_test_iminds))"
   ]
  },
  {
   "cell_type": "markdown",
   "metadata": {},
   "source": [
    "# Explicação do modelo para as predições"
   ]
  },
  {
   "cell_type": "code",
   "execution_count": 16,
   "metadata": {},
   "outputs": [
    {
     "name": "stdout",
     "output_type": "stream",
     "text": [
      "( sepal width <= 3.0 and petal length > 1.5 and petal width <= 1.5 ) or \n",
      "( sepal length <= 6.1 and sepal width > 3.1 and petal length > 3.9 and petal width <= 1.9)\n"
     ]
    }
   ],
   "source": [
    "print(model_iminds.getRule())"
   ]
  }
 ],
 "metadata": {
  "interpreter": {
   "hash": "43633f9b02f321fb096cc9d3b8e92f97c260ef1c83c300579fe72461009102c7"
  },
  "kernelspec": {
   "display_name": "Python 3.8.10 64-bit ('.venv': venv)",
   "language": "python",
   "name": "python3"
  },
  "language_info": {
   "codemirror_mode": {
    "name": "ipython",
    "version": 3
   },
   "file_extension": ".py",
   "mimetype": "text/x-python",
   "name": "python",
   "nbconvert_exporter": "python",
   "pygments_lexer": "ipython3",
   "version": "3.8.10"
  },
  "orig_nbformat": 4
 },
 "nbformat": 4,
 "nbformat_minor": 2
}
