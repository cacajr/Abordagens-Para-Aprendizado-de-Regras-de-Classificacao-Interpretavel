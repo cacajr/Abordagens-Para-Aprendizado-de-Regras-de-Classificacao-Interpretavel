{
 "cells": [
  {
   "cell_type": "markdown",
   "metadata": {},
   "source": [
    "# Importando modelo e uma função que separa o Dataset (treino e teste)"
   ]
  },
  {
   "cell_type": "code",
   "execution_count": 1,
   "metadata": {},
   "outputs": [],
   "source": [
    "from Algoritmos.MinDS1.minds1 import minds1 as IMinDS1\n",
    "from test_approaches import get_test_data"
   ]
  },
  {
   "cell_type": "markdown",
   "metadata": {},
   "source": [
    "# Importando o dataset e inserindo as configurações necessárias para instanciar o modelo"
   ]
  },
  {
   "cell_type": "code",
   "execution_count": 2,
   "metadata": {},
   "outputs": [],
   "source": [
    "# DATASET ADDRESS, NAME AND CATEGORICAL COLUMNS\n",
    "arq = './Testing_tables/teste1.csv'\n",
    "columns = []\n",
    "\n",
    "# MODELS CONFIGURATIONS\n",
    "num_lines_per_partition = 8 # [8, 16]\n",
    "num_clauses = 2 # [1, 2, 3]\n",
    "lambda_params =  10 # [5, 10]"
   ]
  },
  {
   "cell_type": "markdown",
   "metadata": {},
   "source": [
    "# Instanciando o modelo e discretizando o dataset"
   ]
  },
  {
   "cell_type": "code",
   "execution_count": 4,
   "metadata": {},
   "outputs": [],
   "source": [
    "model_iminds = IMinDS1(solver=\"./Solvers/wmifumax-0.9/wmifumax\", numLinesPerPartition=num_lines_per_partition, numClause=num_clauses, dataFidelity=lambda_params)\n",
    "X3, y3, column_info_iminds, columns_iminds = model_iminds.discretize(arq, categoricalColumnIndex=columns)\n",
    "\n",
    "model_iminds.generateWCNFFile(X3, y3, len(X3), './mo3.wcnf', False)"
   ]
  },
  {
   "cell_type": "markdown",
   "metadata": {},
   "source": [
    "# Separando o dataset (discretizado) em 80% para treino e 20% para teste"
   ]
  },
  {
   "cell_type": "code",
   "execution_count": 4,
   "metadata": {},
   "outputs": [],
   "source": [
    "X_test_iminds, y_test_iminds, X_training_iminds, y_training_iminds, _ = get_test_data(X3, y3, 0.2)"
   ]
  },
  {
   "cell_type": "markdown",
   "metadata": {},
   "source": [
    "# Treinando o modelo e visulizando o score referente ao dataset de treino e teste, respectivamente"
   ]
  },
  {
   "cell_type": "code",
   "execution_count": 7,
   "metadata": {},
   "outputs": [
    {
     "name": "stdout",
     "output_type": "stream",
     "text": [
      "Score de treino: 0.9361702127659575\n",
      "Score de teste: 0.9166666666666666\n"
     ]
    },
    {
     "name": "stderr",
     "output_type": "stream",
     "text": [
      "c Min unsat cost LB: 1, ts: 0, CS: 113\n",
      "c Min unsat cost LB: 2, ts: 0, CS: 113\n",
      "c Min unsat cost LB: 3, ts: 0, CS: 56\n",
      "c SAT found, ts: 0.003236\n",
      "c Min unsat cost LB: 1, ts: 0.003674, CS: 116\n",
      "c Min unsat cost LB: 2, ts: 0.004467, CS: 218\n",
      "c SAT found, ts: 0.005432\n",
      "c SAT found, ts: 0.002184\n",
      "c Min unsat cost LB: 1, ts: 0.002054, CS: 114\n",
      "c Min unsat cost LB: 2, ts: 0.002642, CS: 116\n",
      "c SAT found, ts: 0.003121\n"
     ]
    }
   ],
   "source": [
    "model_iminds.fit(X_training_iminds, y_training_iminds)\n",
    "print('Score de treino:', model_iminds.score(X_training_iminds, y_training_iminds))\n",
    "print('Score de teste:', model_iminds.score(X_test_iminds, y_test_iminds))"
   ]
  },
  {
   "cell_type": "markdown",
   "metadata": {},
   "source": [
    "# Explicação do modelo para as predições"
   ]
  },
  {
   "cell_type": "code",
   "execution_count": 8,
   "metadata": {},
   "outputs": [
    {
     "name": "stdout",
     "output_type": "stream",
     "text": [
      "( Alkhol > 5.0 ) or \n",
      "( Surname != Dunaway and Alkhol > 2.0)\n"
     ]
    }
   ],
   "source": [
    "print(model_iminds.getRule())"
   ]
  }
 ],
 "metadata": {
  "interpreter": {
   "hash": "43633f9b02f321fb096cc9d3b8e92f97c260ef1c83c300579fe72461009102c7"
  },
  "kernelspec": {
   "display_name": "Python 3.8.10 64-bit ('.venv': venv)",
   "language": "python",
   "name": "python3"
  },
  "language_info": {
   "codemirror_mode": {
    "name": "ipython",
    "version": 3
   },
   "file_extension": ".py",
   "mimetype": "text/x-python",
   "name": "python",
   "nbconvert_exporter": "python",
   "pygments_lexer": "ipython3",
   "version": "3.8.10"
  },
  "orig_nbformat": 4
 },
 "nbformat": 4,
 "nbformat_minor": 2
}
