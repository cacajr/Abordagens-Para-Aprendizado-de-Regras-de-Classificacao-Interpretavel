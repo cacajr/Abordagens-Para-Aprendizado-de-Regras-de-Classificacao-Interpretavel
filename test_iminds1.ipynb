{
 "cells": [
  {
   "cell_type": "markdown",
   "metadata": {},
   "source": [
    "# Importando modelo e uma função que separa o Dataset (treino e teste)"
   ]
  },
  {
   "cell_type": "code",
   "execution_count": 1,
   "metadata": {},
   "outputs": [],
   "source": [
    "from Algoritmos.MinDS1.minds1 import minds1 as IMinDS1\n",
    "from test_approaches import get_test_data"
   ]
  },
  {
   "cell_type": "markdown",
   "metadata": {},
   "source": [
    "# Importando o dataset e inserindo as configurações necessárias para instanciar o modelo"
   ]
  },
  {
   "cell_type": "code",
   "execution_count": 2,
   "metadata": {},
   "outputs": [],
   "source": [
    "# DATASET ADDRESS, NAME AND CATEGORICAL COLUMNS\n",
    "arq = './Datasets/iris.csv'\n",
    "# arq = './Testing_tables/blood_pictures-1.csv'\n",
    "columns = []\n",
    "\n",
    "# MODELS CONFIGURATIONS\n",
    "num_lines_per_partition = 8 # [8, 16]\n",
    "num_clauses = 1 # [1, 2, 3]\n",
    "lambda_params =  10 # [5, 10]"
   ]
  },
  {
   "cell_type": "markdown",
   "metadata": {},
   "source": [
    "# Instanciando o modelo e discretizando o dataset"
   ]
  },
  {
   "cell_type": "code",
   "execution_count": 3,
   "metadata": {},
   "outputs": [],
   "source": [
    "model_iminds = IMinDS1(solver=\"./Solvers/wmifumax-0.9/wmifumax\", numLinesPerPartition=num_lines_per_partition, numClause=num_clauses, dataFidelity=lambda_params)\n",
    "X3, y3, column_info_iminds, columns_iminds = model_iminds.discretize(arq, categoricalColumnIndex=columns)\n",
    "\n",
    "# model_iminds.generateWCNFFile(X3, y3, len(X3), './mo4.wcnf', False)"
   ]
  },
  {
   "cell_type": "markdown",
   "metadata": {},
   "source": [
    "# Separando o dataset (discretizado) em 80% para treino e 20% para teste"
   ]
  },
  {
   "cell_type": "code",
   "execution_count": 4,
   "metadata": {},
   "outputs": [],
   "source": [
    "X_test_iminds, y_test_iminds, X_training_iminds, y_training_iminds, _ = get_test_data(X3, y3, 0.2)"
   ]
  },
  {
   "cell_type": "markdown",
   "metadata": {},
   "source": [
    "# Treinando o modelo e visulizando o score referente ao dataset de treino e teste, respectivamente"
   ]
  },
  {
   "cell_type": "code",
   "execution_count": 9,
   "metadata": {},
   "outputs": [
    {
     "name": "stdout",
     "output_type": "stream",
     "text": [
      "Score de treino: 0.19230769230769232\n",
      "Score de teste: 0.42857142857142855\n"
     ]
    },
    {
     "name": "stderr",
     "output_type": "stream",
     "text": [
      "c Min unsat cost LB: 1, ts: 0.006915, CS: 236\n",
      "c Min unsat cost LB: 2, ts: 0.008446, CS: 32\n",
      "c Min unsat cost LB: 12, ts: 0.009883, CS: 2\n",
      "c Min unsat cost LB: 22, ts: 0.011239, CS: 2\n",
      "c Min unsat cost LB: 32, ts: 0.012564, CS: 2\n",
      "c Min unsat cost LB: 33, ts: 0.013918, CS: 3\n",
      "c Min unsat cost LB: 34, ts: 0.015348, CS: 4\n",
      "c Min unsat cost LB: 43, ts: 0.016636, CS: 2\n",
      "c Min unsat cost LB: 52, ts: 0.016636, CS: 6\n",
      "c Min unsat cost LB: 61, ts: 0.016636, CS: 2\n",
      "c Min unsat cost LB: 70, ts: 0.016636, CS: 7\n",
      "c Min unsat cost LB: 71, ts: 0.018517, CS: 75\n",
      "c Min unsat cost LB: 72, ts: 0.029923, CS: 161\n",
      "c SAT found, ts: 0.032298\n",
      "c Min unsat cost LB: 1, ts: 0.007405, CS: 238\n",
      "c Min unsat cost LB: 2, ts: 0.010097, CS: 249\n",
      "c Min unsat cost LB: 3, ts: 0.011647, CS: 3\n",
      "c Min unsat cost LB: 13, ts: 0.013227, CS: 2\n",
      "c Min unsat cost LB: 23, ts: 0.014946, CS: 2\n",
      "c Min unsat cost LB: 33, ts: 0.016615, CS: 2\n",
      "c Min unsat cost LB: 43, ts: 0.018173, CS: 2\n",
      "c Min unsat cost LB: 44, ts: 0.019756, CS: 3\n",
      "c Min unsat cost LB: 45, ts: 0.021384, CS: 9\n",
      "c Min unsat cost LB: 46, ts: 0.023222, CS: 9\n",
      "c Min unsat cost LB: 47, ts: 0.024925, CS: 11\n",
      "c Min unsat cost LB: 56, ts: 0.026434, CS: 2\n",
      "c Min unsat cost LB: 57, ts: 0.02806, CS: 3\n",
      "c Min unsat cost LB: 66, ts: 0.029739, CS: 10\n",
      "c Min unsat cost LB: 74, ts: 0.031445, CS: 4\n",
      "c Min unsat cost LB: 82, ts: 0.033086, CS: 2\n",
      "c Min unsat cost LB: 83, ts: 0.034833, CS: 20\n",
      "c Min unsat cost LB: 84, ts: 0.037251, CS: 83\n",
      "c SAT found, ts: 0.040555\n"
     ]
    }
   ],
   "source": [
    "model_iminds.fit(X_training_iminds, y_training_iminds)\n",
    "print('Score de treino:', model_iminds.score(X_training_iminds, y_training_iminds))\n",
    "print('Score de teste:', model_iminds.score(X_test_iminds, y_test_iminds))"
   ]
  },
  {
   "cell_type": "markdown",
   "metadata": {},
   "source": [
    "# Explicação do modelo para as predições"
   ]
  },
  {
   "cell_type": "code",
   "execution_count": 10,
   "metadata": {},
   "outputs": [
    {
     "name": "stdout",
     "output_type": "stream",
     "text": [
      "( f1 > 1574.6 and f19 <= 1127.6000000000001 and f28 > 1499.4)\n"
     ]
    }
   ],
   "source": [
    "print(model_iminds.getRule())"
   ]
  }
 ],
 "metadata": {
  "interpreter": {
   "hash": "43633f9b02f321fb096cc9d3b8e92f97c260ef1c83c300579fe72461009102c7"
  },
  "kernelspec": {
   "display_name": "Python 3.8.10 64-bit ('.venv': venv)",
   "language": "python",
   "name": "python3"
  },
  "language_info": {
   "codemirror_mode": {
    "name": "ipython",
    "version": 3
   },
   "file_extension": ".py",
   "mimetype": "text/x-python",
   "name": "python",
   "nbconvert_exporter": "python",
   "pygments_lexer": "ipython3",
   "version": "3.8.10"
  },
  "orig_nbformat": 4
 },
 "nbformat": 4,
 "nbformat_minor": 2
}
